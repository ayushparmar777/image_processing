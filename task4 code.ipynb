{
 "cells": [
  {
   "cell_type": "code",
   "execution_count": 2,
   "id": "e689bba2",
   "metadata": {},
   "outputs": [],
   "source": [
    "import cv2\n",
    "import numpy"
   ]
  },
  {
   "cell_type": "code",
   "execution_count": 26,
   "id": "d6af1581",
   "metadata": {},
   "outputs": [],
   "source": [
    "# 4.1 creating an image on your own\n",
    "\n",
    "img= numpy.zeros((500,500,4),numpy.uint8)\n",
    "cv2.imshow(\"photo\", img)\n",
    "cv2.waitKey()\n",
    "cv2.destroyAllWindows()\n",
    "\n",
    "font = cv2.FONT_HERSHEY_SIMPLEX\n",
    "org = (150,200)\n",
    "fontscale = 1\n",
    "color = (255,165,0)\n",
    "thickness = 3\n",
    "image1 = cv2.putText(img, 'WELCOME', org, font, fontscale, color, thickness, cv2.LINE_AA)\n",
    "cv2.imshow(\"pic\", image1)\n",
    "cv2.waitKey()\n",
    "cv2.destroyAllWindows()\n",
    "\n",
    "image2 = cv2.circle(img, (225,195), 100, [0,50,255], 4)\n",
    "cv2.imshow(\"pic\", image2)\n",
    "cv2.waitKey()\n",
    "cv2.destroyAllWindows()\n",
    "\n",
    "image3 = cv2.rectangle(img, (150,150) ,(300,250), [0,165,255], 3)\n",
    "cv2.imshow(\"pic\", image3)\n",
    "cv2.waitKey()\n",
    "cv2.destroyAllWindows()\n",
    "\n",
    "image4= cv2.circle(img, (225,195), 120, [0,50,255], 4)\n",
    "cv2.imshow(\"pic\", image4)\n",
    "cv2.waitKey()\n",
    "cv2.destroyAllWindows()\n",
    "\n",
    "image5 = cv2.circle(img, (225,195), 140, [0,50,255], 4)\n",
    "cv2.imshow(\"pic\", image5)\n",
    "cv2.waitKey()\n",
    "cv2.destroyAllWindows()\n",
    "\n",
    "\n",
    "image6= cv2.circle(img, (225,195), 160, [0,50,255], 4)\n",
    "cv2.imshow(\"pic\", image6)\n",
    "cv2.waitKey()\n",
    "cv2.destroyAllWindows()\n",
    "\n",
    "image7 =cv2.circle(img, (225,195), 180, [0,50,255], 4)\n",
    "cv2.imshow(\"pic\", image7)\n",
    "cv2.waitKey()\n",
    "cv2.destroyAllWindows()"
   ]
  },
  {
   "cell_type": "code",
   "execution_count": 27,
   "id": "aebdca51",
   "metadata": {},
   "outputs": [],
   "source": [
    "#4.2 croping images and then swaping them.\n",
    "photo1 = cv2.imread(\"funimation-1.jpg\")\n",
    "photo1 = cv2.resize(photo1, (480,480))\n",
    "crop1 =photo1[115:450 , 120:450]\n",
    "cv2.imshow(\"image\", photo1)\n",
    "cv2.waitKey()\n",
    "cv2.destroyAllWindows()\n",
    "\n",
    "photo2 = cv2.imread(\"anime-demon-slayer-kimetsu-no-yaiba-nezuko-kamado-hd-wallpaper-preview.jpg\")\n",
    "photo2 = cv2.resize(photo2, (480,480))\n",
    "crop2 =photo2[115:450 , 120:450]\n",
    "cv2.imshow(\"image\", photo2)\n",
    "cv2.waitKey()\n",
    "cv2.destroyAllWindows()\n",
    "\n",
    "crop1 = numpy.copy(crop1)\n",
    "crop2 = numpy.copy(crop2)\n",
    "photo1[115:450 , 120:450]=crop2\n",
    "photo2[115:450 , 120:450]=crop1\n",
    "\n",
    "cv2.imshow(\"image\", photo1)\n",
    "cv2.waitKey()\n",
    "cv2.destroyAllWindows()\n",
    "\n",
    "cv2.imshow(\"image\", photo2)\n",
    "cv2.waitKey()\n",
    "cv2.destroyAllWindows()"
   ]
  },
  {
   "cell_type": "code",
   "execution_count": 28,
   "id": "86790048",
   "metadata": {},
   "outputs": [],
   "source": [
    "# 4.3 croping and making a collage of two images\n",
    "photo3 = cv2.imread(\"768dd151c5d8a7438cd02794cded5557.jpg\")\n",
    "cv2.imshow(\"pic\", photo3)\n",
    "cv2.waitKey()\n",
    "cv2.destroyAllWindows()\n",
    "cropimg1 = photo3[40:360 , 90:640]\n",
    "cv2.imshow(\"pic\", cropimg1)\n",
    "cv2.waitKey()\n",
    "cv2.destroyAllWindows()\n",
    "photo4 = cv2.imread(\"pin-by-sarah-leloup-on-gojo-satoru-jujutsu-anime-guys-manga-anime4c5c28bad3f26584.md.jpg\")\n",
    "cv2.imshow(\"pic\", photo4)\n",
    "cv2.waitKey()\n",
    "cv2.destroyAllWindows()\n",
    "cropimg2 = photo4[40:360 , 90:640]\n",
    "cv2.imshow(\"pic\", cropimg2)\n",
    "cv2.waitKey()\n",
    "cv2.destroyAllWindows()\n",
    "dd = numpy.hstack((cropimg1 , cropimg2))\n",
    "cv2.imshow(\"f1\", dd)\n",
    "cv2.waitKey()\n",
    "cv2.destroyAllWindows()"
   ]
  },
  {
   "cell_type": "code",
   "execution_count": null,
   "id": "997d2e01",
   "metadata": {},
   "outputs": [],
   "source": [
    "and that was it. thank you for watching"
   ]
  },
  {
   "cell_type": "code",
   "execution_count": null,
   "id": "30abe94f",
   "metadata": {},
   "outputs": [],
   "source": []
  }
 ],
 "metadata": {
  "kernelspec": {
   "display_name": "Python 3",
   "language": "python",
   "name": "python3"
  },
  "language_info": {
   "codemirror_mode": {
    "name": "ipython",
    "version": 3
   },
   "file_extension": ".py",
   "mimetype": "text/x-python",
   "name": "python",
   "nbconvert_exporter": "python",
   "pygments_lexer": "ipython3",
   "version": "3.8.8"
  }
 },
 "nbformat": 4,
 "nbformat_minor": 5
}
